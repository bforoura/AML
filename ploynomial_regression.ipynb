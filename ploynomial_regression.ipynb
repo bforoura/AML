{
  "nbformat": 4,
  "nbformat_minor": 0,
  "metadata": {
    "colab": {
      "name": "ploynomial_regression.ipynb",
      "provenance": [],
      "collapsed_sections": [],
      "authorship_tag": "ABX9TyO80zy2NIZy1z6ds/2J0oBi",
      "include_colab_link": true
    },
    "kernelspec": {
      "name": "python3",
      "display_name": "Python 3"
    },
    "language_info": {
      "name": "python"
    }
  },
  "cells": [
    {
      "cell_type": "markdown",
      "metadata": {
        "id": "view-in-github",
        "colab_type": "text"
      },
      "source": [
        "<a href=\"https://colab.research.google.com/github/bforoura/AML/blob/master/ploynomial_regression.ipynb\" target=\"_parent\"><img src=\"https://colab.research.google.com/assets/colab-badge.svg\" alt=\"Open In Colab\"/></a>"
      ]
    },
    {
      "cell_type": "markdown",
      "metadata": {
        "id": "DL255qmVtQuK"
      },
      "source": [
        "### **Polynomal Regression**"
      ]
    },
    {
      "cell_type": "code",
      "metadata": {
        "id": "vqOwHZqssqAr"
      },
      "source": [
        "# Create random data\n",
        "\n",
        "import pandas as pd\n",
        "\n",
        "xdic={'X': {11: 300, 12: 170, 13: 288, 14: 360, 15: 319, 16: 330, 17: 520, 18: 345, 19: 399, 20: 479}}\n",
        "ydic={'y': {11: 305000, 12: 270000, 13: 360000, 14: 370000, 15: 379000, 16: 405000, 17: 407500, 18: 450000, 19: 450000, 20: 485000}}\n",
        "X=pd.DataFrame.from_dict(xdic)\n",
        "y=pd.DataFrame.from_dict(ydic)\n",
        "\n",
        "import numpy as np\n",
        "X_seq = np.linspace(X.min(),X.max(),100).reshape(-1,1)"
      ],
      "execution_count": 140,
      "outputs": []
    },
    {
      "cell_type": "code",
      "metadata": {
        "colab": {
          "base_uri": "https://localhost:8080/",
          "height": 265
        },
        "id": "3SNz4XGcs2cy",
        "outputId": "3af611e4-d855-4aaa-bdae-59739fbc8015"
      },
      "source": [
        "# PLot the data\n",
        "\n",
        "import matplotlib.pyplot as plt\n",
        "plt.figure()\n",
        "plt.scatter(X,y)\n",
        "plt.show()"
      ],
      "execution_count": 141,
      "outputs": [
        {
          "output_type": "display_data",
          "data": {
            "image/png": "[encoded data removed]",
            "text/plain": [
              "<Figure size 432x288 with 1 Axes>"
            ]
          },
          "metadata": {
            "tags": [],
            "needs_background": "light"
          }
        }
      ]
    },
    {
      "cell_type": "code",
      "metadata": {
        "colab": {
          "base_uri": "https://localhost:8080/"
        },
        "id": "egO-detCs_I0",
        "outputId": "c64bc89c-a029-4bf4-e87a-06c1235849bb"
      },
      "source": [
        "# Create the model\n",
        "\n",
        "from sklearn.preprocessing import PolynomialFeatures\n",
        "from sklearn.pipeline import make_pipeline\n",
        "from sklearn.linear_model import LinearRegression\n",
        "\n",
        "degree=9\n",
        "polyreg=make_pipeline(PolynomialFeatures(degree),LinearRegression())\n",
        "polyreg.fit(X,y)"
      ],
      "execution_count": 143,
      "outputs": [
        {
          "output_type": "execute_result",
          "data": {
            "text/plain": [
              "Pipeline(memory=None,\n",
              "         steps=[('polynomialfeatures',\n",
              "                 PolynomialFeatures(degree=9, include_bias=True,\n",
              "                                    interaction_only=False, order='C')),\n",
              "                ('linearregression',\n",
              "                 LinearRegression(copy_X=True, fit_intercept=True, n_jobs=None,\n",
              "                                  normalize=False))],\n",
              "         verbose=False)"
            ]
          },
          "metadata": {
            "tags": []
          },
          "execution_count": 143
        }
      ]
    },
    {
      "cell_type": "code",
      "metadata": {
        "colab": {
          "base_uri": "https://localhost:8080/",
          "height": 281
        },
        "id": "xepWePzZtGVo",
        "outputId": "8072fc7a-1849-411d-b7da-c45b89b18110"
      },
      "source": [
        "# Plot the results\n",
        "\n",
        "import matplotlib.pyplot as plt\n",
        "plt.figure()\n",
        "plt.scatter(X,y)\n",
        "plt.plot(X_seq,polyreg.predict(X_seq),color=\"black\")\n",
        "plt.title(\"Polynomial regression with degree \"+str(degree))\n",
        "plt.show()"
      ],
      "execution_count": 146,
      "outputs": [
        {
          "output_type": "display_data",
          "data": {
            "image/png": "[encoded data removed]",
            "text/plain": [
              "<Figure size 432x288 with 1 Axes>"
            ]
          },
          "metadata": {
            "tags": [],
            "needs_background": "light"
          }
        }
      ]
    },
    {
      "cell_type": "code",
      "metadata": {
        "colab": {
          "base_uri": "https://localhost:8080/"
        },
        "id": "egTOUfpSa6Ca",
        "outputId": "72072a93-a165-4f2a-c691-2b53e7e0da0d"
      },
      "source": [
        "# What are the polynomial model coeffients?\n",
        "\n",
        "from sklearn.preprocessing import PolynomialFeatures\n",
        "poly_features = PolynomialFeatures(degree=25, include_bias=False)\n",
        "X_poly = poly_features.fit_transform(X)\n",
        "\n",
        "lin_reg = LinearRegression()\n",
        "lin_reg.fit(X_poly, y)\n",
        "lin_reg.intercept_, lin_reg.coef_\n"
      ],
      "execution_count": 147,
      "outputs": [
        {
          "output_type": "execute_result",
          "data": {
            "text/plain": [
              "(array([331078.61696291]),\n",
              " array([[ 1.91776336e-53,  4.68791844e-61, -1.11854246e-61,\n",
              "          6.64689742e-65, -2.37389194e-66,  1.85460308e-68,\n",
              "          1.81113582e-71,  2.12242478e-73,  2.26153789e-80,\n",
              "          8.37892396e-79,  2.80454230e-76,  9.19353175e-74,\n",
              "          2.95468893e-71,  9.27714259e-69,  2.83153891e-66,\n",
              "          8.34189346e-64,  2.34792293e-61,  6.21655491e-59,\n",
              "          1.51029571e-56,  3.22268788e-54,  5.52276725e-52,\n",
              "          5.93891303e-50, -3.82815160e-52,  8.18536600e-55,\n",
              "         -5.80752663e-58]]))"
            ]
          },
          "metadata": {
            "tags": []
          },
          "execution_count": 147
        }
      ]
    },
    {
      "cell_type": "code",
      "metadata": {
        "colab": {
          "base_uri": "https://localhost:8080/",
          "height": 283
        },
        "id": "q2KBJNBfWSYf",
        "outputId": "fc5608d6-9783-482d-e9d1-c0d9ba0ac746"
      },
      "source": [
        "'''\n",
        "Another way to evaluate a model is to look at the learning curves: these are plots of the model’s per‐\n",
        "formance on the training set and the validation set as a function of the training set\n",
        "size (or the training iteration). To generate the plots, train the model several times on\n",
        "different sized subsets of the training set. The following code defines a function that,\n",
        "given some training data, plots the learning curves of a model:\n",
        "'''\n",
        "\n",
        "from sklearn.metrics import mean_squared_error\n",
        "from sklearn.model_selection import train_test_split\n",
        "\n",
        "def plot_learning_curves(model, X, y):\n",
        "    X_train, X_val, y_train, y_val = train_test_split(X, y, test_size=0.20, random_state=10)\n",
        "    train_errors, val_errors = [], []\n",
        "    for m in range(1, len(X_train)):\n",
        "        model.fit(X_train[:m], y_train[:m])\n",
        "        y_train_predict = model.predict(X_train[:m])\n",
        "        y_val_predict = model.predict(X_val)\n",
        "        train_errors.append(mean_squared_error(y_train[:m], y_train_predict))\n",
        "        val_errors.append(mean_squared_error(y_val, y_val_predict))\n",
        "\n",
        "    plt.plot(np.sqrt(train_errors), \"b\", linewidth=2, label=\"train\")\n",
        "    plt.plot(np.sqrt(val_errors), \"r\", linewidth=3, label=\"val\")\n",
        "    plt.legend(loc=\"upper right\", fontsize=14)   \n",
        "    plt.xlabel(\"Training set size\", fontsize=14) \n",
        "    plt.ylabel(\"RMSE\", fontsize=14)              \n",
        "\n",
        "\n",
        "plot_learning_curves(polyreg, X, y)\n",
        "                                 "
      ],
      "execution_count": 149,
      "outputs": [
        {
          "output_type": "display_data",
          "data": {
            "image/png": "[encoded data removed]",
            "text/plain": [
              "<Figure size 432x288 with 1 Axes>"
            ]
          },
          "metadata": {
            "tags": [],
            "needs_background": "light"
          }
        }
      ]
    },
    {
      "cell_type": "code",
      "metadata": {
        "id": "2Dv3Q4zqWfiU"
      },
      "source": [
        ""
      ],
      "execution_count": null,
      "outputs": []
    }
  ]
}