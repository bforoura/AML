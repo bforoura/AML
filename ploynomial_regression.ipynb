{
  "nbformat": 4,
  "nbformat_minor": 0,
  "metadata": {
    "colab": {
      "name": "ploynomial_regression.ipynb",
      "provenance": [],
      "collapsed_sections": [],
      "authorship_tag": "ABX9TyNT3FpPgzv+FEL3JzLe+gUb",
      "include_colab_link": true
    },
    "kernelspec": {
      "name": "python3",
      "display_name": "Python 3"
    },
    "language_info": {
      "name": "python"
    }
  },
  "cells": [
    {
      "cell_type": "markdown",
      "metadata": {
        "id": "view-in-github",
        "colab_type": "text"
      },
      "source": [
        "<a href=\"https://colab.research.google.com/github/bforoura/AML/blob/master/ploynomial_regression.ipynb\" target=\"_parent\"><img src=\"https://colab.research.google.com/assets/colab-badge.svg\" alt=\"Open In Colab\"/></a>"
      ]
    },
    {
      "cell_type": "markdown",
      "metadata": {
        "id": "DL255qmVtQuK"
      },
      "source": [
        "### **Polynomal Regression**"
      ]
    },
    {
      "cell_type": "code",
      "metadata": {
        "id": "vqOwHZqssqAr"
      },
      "source": [
        "# Create random data\n",
        "\n",
        "import pandas as pd\n",
        "xdic={'X': {11: 300, 12: 170, 13: 288, 14: 360, 15: 319, 16: 330, 17: 520, 18: 345, 19: 399, 20: 479}}\n",
        "ydic={'y': {11: 305000, 12: 270000, 13: 360000, 14: 370000, 15: 379000, 16: 405000, 17: 407500, 18: 450000, 19: 450000, 20: 485000}}\n",
        "X=pd.DataFrame.from_dict(xdic)\n",
        "y=pd.DataFrame.from_dict(ydic)\n",
        "import numpy as np\n",
        "X_seq = np.linspace(X.min(),X.max(),300).reshape(-1,1)"
      ],
      "execution_count": 62,
      "outputs": []
    },
    {
      "cell_type": "code",
      "metadata": {
        "colab": {
          "base_uri": "https://localhost:8080/",
          "height": 265
        },
        "id": "3SNz4XGcs2cy",
        "outputId": "efcc2219-5b96-47af-e7dd-75c4c1496ddf"
      },
      "source": [
        "# PLot the data\n",
        "\n",
        "import matplotlib.pyplot as plt\n",
        "plt.figure()\n",
        "plt.scatter(X,y)\n",
        "plt.show()"
      ],
      "execution_count": 63,
      "outputs": [
        {
          "output_type": "display_data",
          "data": {
            "image/png": "[encoded data removed]",
            "text/plain": [
              "<Figure size 432x288 with 1 Axes>"
            ]
          },
          "metadata": {
            "tags": [],
            "needs_background": "light"
          }
        }
      ]
    },
    {
      "cell_type": "code",
      "metadata": {
        "colab": {
          "base_uri": "https://localhost:8080/"
        },
        "id": "egO-detCs_I0",
        "outputId": "e72038cc-f916-4ad0-e44d-ab585ab4ed74"
      },
      "source": [
        "# Create the model\n",
        "\n",
        "from sklearn.preprocessing import PolynomialFeatures\n",
        "from sklearn.pipeline import make_pipeline\n",
        "from sklearn.linear_model import LinearRegression\n",
        "\n",
        "degree=9\n",
        "\n",
        "polyreg=make_pipeline(PolynomialFeatures(degree),LinearRegression())\n",
        "polyreg.fit(X,y)"
      ],
      "execution_count": 64,
      "outputs": [
        {
          "output_type": "execute_result",
          "data": {
            "text/plain": [
              "Pipeline(memory=None,\n",
              "         steps=[('polynomialfeatures',\n",
              "                 PolynomialFeatures(degree=9, include_bias=True,\n",
              "                                    interaction_only=False, order='C')),\n",
              "                ('linearregression',\n",
              "                 LinearRegression(copy_X=True, fit_intercept=True, n_jobs=None,\n",
              "                                  normalize=False))],\n",
              "         verbose=False)"
            ]
          },
          "metadata": {
            "tags": []
          },
          "execution_count": 64
        }
      ]
    },
    {
      "cell_type": "code",
      "metadata": {
        "colab": {
          "base_uri": "https://localhost:8080/",
          "height": 281
        },
        "id": "xepWePzZtGVo",
        "outputId": "10cd7f5d-6326-499b-df05-8431db39ed62"
      },
      "source": [
        "# Plot the results\n",
        "\n",
        "import matplotlib.pyplot as plt\n",
        "plt.figure()\n",
        "plt.scatter(X,y)\n",
        "plt.plot(X_seq,polyreg.predict(X_seq),color=\"black\")\n",
        "plt.title(\"Polynomial regression with degree \"+str(degree))\n",
        "plt.show()"
      ],
      "execution_count": 65,
      "outputs": [
        {
          "output_type": "display_data",
          "data": {
            "image/png": "[encoded data removed]",
            "text/plain": [
              "<Figure size 432x288 with 1 Axes>"
            ]
          },
          "metadata": {
            "tags": [],
            "needs_background": "light"
          }
        }
      ]
    },
    {
      "cell_type": "code",
      "metadata": {
        "colab": {
          "base_uri": "https://localhost:8080/"
        },
        "id": "egTOUfpSa6Ca",
        "outputId": "2d09722b-2a3b-4a7f-d9e6-213adc905d5f"
      },
      "source": [
        "# What are the polynomial model coeffients?\n",
        "\n",
        "from sklearn.preprocessing import PolynomialFeatures\n",
        "poly_features = PolynomialFeatures(degree=9, include_bias=False)\n",
        "X_poly = poly_features.fit_transform(X)\n",
        "\n",
        "lin_reg = LinearRegression()\n",
        "lin_reg.fit(X_poly, y)\n",
        "lin_reg.intercept_, lin_reg.coef_\n"
      ],
      "execution_count": 74,
      "outputs": [
        {
          "output_type": "execute_result",
          "data": {
            "text/plain": [
              "(array([295020.60134512]),\n",
              " array([[-2.31472463e-15, -3.13544510e-09, -1.55631357e-10,\n",
              "         -2.27463662e-08, -1.93262975e-06,  1.95439465e-08,\n",
              "         -7.17953309e-11,  1.15108836e-13, -6.83705101e-17]]))"
            ]
          },
          "metadata": {
            "tags": []
          },
          "execution_count": 74
        }
      ]
    }
  ]
}