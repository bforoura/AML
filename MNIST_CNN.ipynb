{
  "nbformat": 4,
  "nbformat_minor": 0,
  "metadata": {
    "accelerator": "GPU",
    "colab": {
      "name": "MNIST_CNN.ipynb",
      "provenance": [],
      "collapsed_sections": [],
      "authorship_tag": "ABX9TyNYvWOQQlipwGjFCmOwVu9M",
      "include_colab_link": true
    },
    "kernelspec": {
      "display_name": "Python 3",
      "name": "python3"
    },
    "language_info": {
      "name": "python"
    }
  },
  "cells": [
    {
      "cell_type": "markdown",
      "metadata": {
        "id": "view-in-github",
        "colab_type": "text"
      },
      "source": [
        "<a href=\"https://colab.research.google.com/github/bforoura/AML/blob/master/MNIST_CNN.ipynb\" target=\"_parent\"><img src=\"https://colab.research.google.com/assets/colab-badge.svg\" alt=\"Open In Colab\"/></a>"
      ]
    },
    {
      "cell_type": "code",
      "metadata": {
        "id": "T9biTweAhDoW"
      },
      "source": [
        "from numpy import mean\n",
        "from numpy import std\n",
        "from matplotlib import pyplot\n",
        "from sklearn.model_selection import KFold\n",
        "from keras.datasets import mnist\n",
        "from keras.utils import to_categorical\n",
        "from keras.models import Sequential\n",
        "from keras.layers import Conv2D, MaxPooling2D, Dense, Flatten, Dropout\n",
        "from keras.optimizers import SGD\n",
        "\n"
      ],
      "execution_count": 19,
      "outputs": []
    },
    {
      "cell_type": "code",
      "metadata": {
        "id": "qr-1JBzcehB3"
      },
      "source": [
        "# Download the full MNIST dataset\n",
        "\n",
        "def load_dataset():\n",
        "  \n",
        "\t# load dataset\n",
        "\t(trainX, trainY), (testX, testY) = mnist.load_data()\n",
        " \n",
        "\t# reshape dataset to have a single channel\n",
        "\ttrainX = trainX.reshape((trainX.shape[0], 28, 28, 1))\n",
        "\ttestX = testX.reshape((testX.shape[0], 28, 28, 1))\n",
        " \n",
        "\t# one-hot encode target values\n",
        "\ttrainY = to_categorical(trainY)\n",
        "\ttestY = to_categorical(testY)\n",
        " \n",
        "\treturn trainX, trainY, testX, testY\n",
        "\n"
      ],
      "execution_count": 20,
      "outputs": []
    },
    {
      "cell_type": "code",
      "metadata": {
        "id": "p3_Edqg4h0fw"
      },
      "source": [
        "#  Normalize the pixel values of grayscale images, e.g. rescale them to the range [0,1]\n",
        "\n",
        "def prep_pixels(train, test):\n",
        "  \n",
        "\t# convert from integers to floats\n",
        "\ttrain_norm = train.astype('float32')\n",
        "\ttest_norm = test.astype('float32')\n",
        " \n",
        "\t# normalize to range 0-1\n",
        "\ttrain_norm = train_norm / 255.0\n",
        "\ttest_norm = test_norm / 255.0\n",
        "\n",
        "\t# return normalized images\n",
        "\treturn train_norm, test_norm\n",
        "\n"
      ],
      "execution_count": 21,
      "outputs": []
    },
    {
      "cell_type": "code",
      "metadata": {
        "id": "Th8rwCVtiknm"
      },
      "source": [
        "# The CNN model has two main aspects: the feature extraction front end comprised of \n",
        "# convolutional and pooling layers, and the classifier backend that will make a prediction.\n",
        "\n",
        "\n",
        "def create_compile_model_1():\n",
        "\n",
        "  model = Sequential()\n",
        " \n",
        "  # for the convolutional front-end, we can start with a single convolutional layer with \n",
        "  # a small filter size (3,3) and a modest number of filters (32) followed by a max pooling layer. \n",
        "  # ============================================================================\n",
        "  model.add(Conv2D(32, (3, 3), activation='relu', kernel_initializer='he_uniform', input_shape=(28, 28, 1)))\n",
        "  model.add(MaxPooling2D((2, 2)))\n",
        "  # ============================================================================\n",
        " \n",
        "  # The filter maps are flattened to provide features to the classifier.\n",
        "  # ============================================================================\n",
        "  model.add(Flatten())\n",
        "  # ============================================================================\n",
        " \n",
        "  # Between the feature extractor and the output layer, we can add a dense layer to interpret \n",
        "  # the features, in this case with 100 nodes. \n",
        "  # all layers will use the ReLU activation function and the He weight initialization scheme, \n",
        "  # which are best practices.\n",
        "  # ============================================================================\n",
        "  model.add(Dense(100, activation='relu', kernel_initializer='he_uniform'))\n",
        "  # ============================================================================\n",
        " \n",
        "  # Given that the problem is a multi-class classification task, we know that we will require an output \n",
        "  # layer with 10 nodes in order to predict the probability distribution of an image belonging to each \n",
        "  # of the 10 classes. This will also require the use of a softmax activation function. \n",
        "  # ============================================================================\n",
        "  model.add(Dense(10, activation='softmax'))\n",
        "  # ============================================================================\n",
        " \n",
        "\t# Use a conservative configuration for the stochastic gradient descent optimizer with a \n",
        "  # learning rate of 0.01 and a momentum of 0.9. \n",
        "  opt = SGD(lr=0.01, momentum=0.9)\n",
        "\n",
        "  # The categorical cross-entropy loss function will be optimized, suitable for multi-class \n",
        "  # classification. Base class is Optimizer, but it could be SGD, Adam, RMSProp, etc.\n",
        "  model.compile(optimizer=opt, loss='categorical_crossentropy', metrics=['accuracy'])\n",
        " \n",
        "  return model\n"
      ],
      "execution_count": 22,
      "outputs": []
    },
    {
      "cell_type": "code",
      "metadata": {
        "id": "hzwV3l8fmUeN"
      },
      "source": [
        "# let's experiment with another  model\n",
        "\n",
        "def create_compile_model_2():\n",
        "\n",
        "  model = Sequential([\n",
        "                                   \n",
        "  # The first layer uses 64  filters (7 × 7) but no stride because \n",
        "  # images are not very large. It also sets input_shape=[28, 28, 1], because the\n",
        "  # images are 28 × 28 pixels, with a single color channel (i.e., grayscale). \n",
        "  # A max pooling layer which uses a pool size of 2, so it divides each\n",
        "  # spatial dimension by a factor of 2.\n",
        "  # ============================================================================\n",
        "  Conv2D(64, 7, activation=\"relu\", padding=\"same\", input_shape=[28, 28, 1]),\n",
        "  MaxPooling2D(2),\n",
        "  # ============================================================================\n",
        "\n",
        "  # For larger images repeat this same structure many times: convolutional \n",
        "  # layers followed by max pooling layers. Reduce size of feature maps in\n",
        "  # subsequent layers.\n",
        "  # the number of repetitions is a hyperparameter for tuning.\n",
        "  # ============================================================================\n",
        "  Conv2D(256, 3, activation=\"relu\", padding=\"same\"),\n",
        "  Conv2D(256, 3, activation=\"relu\", padding=\"same\"),\n",
        "  MaxPooling2D(2),\n",
        "\n",
        "  Conv2D(128, 3, activation=\"relu\", padding=\"same\"),\n",
        "  Conv2D(128, 3, activation=\"relu\", padding=\"same\"),\n",
        "  MaxPooling2D(2),\n",
        "  # ============================================================================\n",
        "\n",
        "  # The-backend classifier is a fully-connected network, composed of two hidden \n",
        "  # dense layers and a dense output layer. Note that we must flatten its inputs, \n",
        "  # since a dense network expects a 1D array of features for each instance. We \n",
        "  # also add two dropout layers, each with a dropout rate of 50%, to reduce \n",
        "  # overfitting.\n",
        "  # ============================================================================\n",
        "  Flatten(),\n",
        "\n",
        "  Dense(128, activation=\"relu\"),\n",
        "  Dropout(0.5),\n",
        "\n",
        "  Dense(64, activation=\"relu\"),\n",
        "  Dropout(0.5),\n",
        "  # ============================================================================\n",
        "\n",
        "  # For multi-class classification of 10 digits\n",
        "  # ============================================================================\n",
        "  Dense(10, activation=\"softmax\")\n",
        "  # ============================================================================\n",
        "  ])\n",
        "\n",
        "  # The categorical cross-entropy loss function will be optimized, suitable for multi-class \n",
        "  # classification. Base class is Optimizer, but it could be SGD, adam, RMSProp, etc.\n",
        "  opt = SGD(lr=0.01, momentum=0.9)\n",
        "  model.compile(optimizer=opt, loss='categorical_crossentropy', metrics=['accuracy'])\n",
        "\n",
        "  return model\n"
      ],
      "execution_count": 32,
      "outputs": []
    },
    {
      "cell_type": "code",
      "metadata": {
        "id": "zFKsPHVHkZ5T"
      },
      "source": [
        "# Evaluate the model using k-fold cross-validation\n",
        "\n",
        "def evaluate_model(model, dataX, dataY, n_folds):\n",
        "\n",
        "\tscores, histories = list(), list()\n",
        " \n",
        "\t# prepare cross validation\n",
        "\tkfold = KFold(n_folds, shuffle=True, random_state=1)\n",
        " \n",
        "\t# enumerate splits\n",
        "\tfor train_ix, test_ix in kfold.split(dataX):\n",
        "  \n",
        "\t\t# select rows for train and test\n",
        "\t\ttrainX, trainY, testX, testY = dataX[train_ix], dataY[train_ix], dataX[test_ix], dataY[test_ix]\n",
        "\n",
        "\t\t# fit model\n",
        "\t\thistory = model.fit(trainX, trainY, epochs=10, batch_size=32, validation_data=(testX, testY), verbose=0)\n",
        "  \n",
        "\t\t# evaluate model\n",
        "\t\t_, acc = model.evaluate(testX, testY, verbose=0)\n",
        "\t\tprint('CV Fold accuracy:  %.3f' % (acc * 100.0))\n",
        "  \n",
        "\t\t# stores scores\n",
        "\t\tscores.append(acc)\n",
        "\t\thistories.append(history)\n",
        "  \n",
        "\treturn scores, histories\n"
      ],
      "execution_count": 24,
      "outputs": []
    },
    {
      "cell_type": "code",
      "metadata": {
        "id": "VFiQVsBmkupW"
      },
      "source": [
        "# Plot learning curves\n",
        "\n",
        "def summarize_learning(histories):\n",
        "\n",
        "  for i in range(len(histories)):\n",
        "\t\t\n",
        "    # plot loss\n",
        "    pyplot.subplot(2, 1, 1)\n",
        "    pyplot.title('Cross Entropy Loss')\n",
        "    pyplot.plot(histories[i].history['loss'], color='blue', label='train')\n",
        "    pyplot.plot(histories[i].history['val_loss'], color='orange', label='test')\n",
        "\t\t\n",
        "    # plot accuracy\n",
        "    pyplot.subplot(2, 1, 2)\n",
        "    pyplot.title('Classification Accuracy')\n",
        "    pyplot.plot(histories[i].history['accuracy'], color='red', label='train')\n",
        "    pyplot.plot(histories[i].history['val_accuracy'], color='green', label='test')\n",
        "  \n",
        "    pyplot.show()"
      ],
      "execution_count": 25,
      "outputs": []
    },
    {
      "cell_type": "code",
      "metadata": {
        "id": "3HzvBDYbsH0w"
      },
      "source": [
        "# Summarize model performance\n",
        "\n",
        "def summarize_performance(scores):\n",
        "\n",
        "\t# print summary\n",
        "\tprint('Model Accuracy: mean=%.3f std=%.3f, folds=%d' % (mean(scores)*100, std(scores)*100, len(scores)))\n",
        " \n"
      ],
      "execution_count": 26,
      "outputs": []
    },
    {
      "cell_type": "code",
      "metadata": {
        "id": "18QZqOxdk7RI"
      },
      "source": [
        "# The main driver for evaluating the model\n",
        "\n",
        "def process(model, num_folds):\n",
        "\n",
        "\t# load dataset\n",
        "\ttrainX, trainY, testX, testY = load_dataset()\n",
        " \n",
        "\t# prepare pixel data\n",
        "\ttrainX, testX = prep_pixels(trainX, testX)\n",
        " \n",
        "\t# evaluate the model using CV\n",
        "\tscores, histories = evaluate_model(model, trainX, trainY, num_folds)\n",
        " \n",
        "\t# learning curves\n",
        "\tsummarize_learning(histories)\n",
        " \n",
        "\t# summarize estimated performance\n",
        "\tsummarize_performance(scores)"
      ],
      "execution_count": 27,
      "outputs": []
    },
    {
      "cell_type": "code",
      "metadata": {
        "colab": {
          "base_uri": "https://localhost:8080/",
          "height": 595
        },
        "id": "aCBVgUV2lHOf",
        "outputId": "94877ab5-d21f-4098-b312-d23f440ccf74"
      },
      "source": [
        "from keras.models import save_model, load_model\n",
        "\n",
        "# Experiment with two different CNN architectures\n",
        "\n",
        "num_folds = 2\n",
        "\n",
        "# model1 = load_model('model1.h5')\n",
        "model1 = create_compile_model_1()\n",
        "\n",
        "# evaluate the model\n",
        "process(model1, num_folds)\n",
        "\n",
        "# save the model\n",
        "model1.save('model1.h5')\n"
      ],
      "execution_count": 28,
      "outputs": [
        {
          "output_type": "stream",
          "text": [
            "CV Fold accuracy:  98.473\n",
            "CV Fold accuracy:  99.547\n"
          ],
          "name": "stdout"
        },
        {
          "output_type": "display_data",
          "data": {
            "image/png": "[encoded data removed]",
            "text/plain": [
              "<Figure size 432x288 with 2 Axes>"
            ]
          },
          "metadata": {
            "tags": [],
            "needs_background": "light"
          }
        },
        {
          "output_type": "display_data",
          "data": {
            "image/png": "[encoded data removed]",
            "text/plain": [
              "<Figure size 432x288 with 2 Axes>"
            ]
          },
          "metadata": {
            "tags": [],
            "needs_background": "light"
          }
        },
        {
          "output_type": "stream",
          "text": [
            "Model Accuracy: mean=99.010 std=0.537, folds=2\n"
          ],
          "name": "stdout"
        }
      ]
    },
    {
      "cell_type": "code",
      "metadata": {
        "colab": {
          "base_uri": "https://localhost:8080/",
          "height": 156
        },
        "id": "bLkVms18rgSL",
        "outputId": "d961d94b-de92-478f-8abc-01e2fefcb057"
      },
      "source": [
        "#%pip install visualkeras\n",
        "import visualkeras\n",
        "\n",
        "# Draw model1's architecture\n",
        "\n",
        "#visualkeras.layered_view(model1, to_file='output.png') # write to disk\n",
        "#visualkeras.layered_view(model1, to_file='output.png').show() # write and show\n",
        "\n",
        "visualkeras.layered_view(model1)\n"
      ],
      "execution_count": 29,
      "outputs": [
        {
          "output_type": "execute_result",
          "data": {
            "image/png": "[encoded data removed]",
            "text/plain": [
              "<PIL.Image.Image image mode=RGBA size=561x139 at 0x7F16B8578D90>"
            ]
          },
          "metadata": {
            "tags": []
          },
          "execution_count": 29
        }
      ]
    },
    {
      "cell_type": "code",
      "metadata": {
        "colab": {
          "base_uri": "https://localhost:8080/",
          "height": 595
        },
        "id": "WHZ_UsFYNmJQ",
        "outputId": "492a9c97-96e4-4a44-acf6-2126ca5b4f2a"
      },
      "source": [
        "# model2 = load_model('model2.h5')\n",
        "model2 = create_compile_model_2()\n",
        "\n",
        "# evaluate the model\n",
        "process(model2, num_folds)\n",
        "\n",
        "# save the model\n",
        "model2.save('model2.h5')"
      ],
      "execution_count": 35,
      "outputs": [
        {
          "output_type": "stream",
          "text": [
            "CV Fold accuracy:  99.000\n",
            "CV Fold accuracy:  99.563\n"
          ],
          "name": "stdout"
        },
        {
          "output_type": "display_data",
          "data": {
            "image/png": "[encoded data removed]",
            "text/plain": [
              "<Figure size 432x288 with 2 Axes>"
            ]
          },
          "metadata": {
            "tags": [],
            "needs_background": "light"
          }
        },
        {
          "output_type": "display_data",
          "data": {
            "image/png": "[encoded data removed]",
            "text/plain": [
              "<Figure size 432x288 with 2 Axes>"
            ]
          },
          "metadata": {
            "tags": [],
            "needs_background": "light"
          }
        },
        {
          "output_type": "stream",
          "text": [
            "Model Accuracy: mean=99.282 std=0.282, folds=2\n"
          ],
          "name": "stdout"
        }
      ]
    },
    {
      "cell_type": "code",
      "metadata": {
        "colab": {
          "base_uri": "https://localhost:8080/",
          "height": 167
        },
        "id": "pUGhE5YGtD9O",
        "outputId": "5ae1c0e8-b74b-49f3-adc5-16f33bf21a8f"
      },
      "source": [
        "#%pip install visualkeras\n",
        "import visualkeras\n",
        "\n",
        "# Draw model2's architecture\n",
        "\n",
        "#visualkeras.layered_view(model2, to_file='output.png') # write to disk\n",
        "#visualkeras.layered_view(model2, to_file='output.png').show() # write and show\n",
        "\n",
        "visualkeras.layered_view(model2)\n"
      ],
      "execution_count": 34,
      "outputs": [
        {
          "output_type": "execute_result",
          "data": {
            "image/png": "[encoded data removed]",
            "text/plain": [
              "<PIL.Image.Image image mode=RGBA size=564x150 at 0x7F16AA514490>"
            ]
          },
          "metadata": {
            "tags": []
          },
          "execution_count": 34
        }
      ]
    }
  ]
}