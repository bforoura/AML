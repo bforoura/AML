{
  "nbformat": 4,
  "nbformat_minor": 0,
  "metadata": {
    "colab": {
      "name": "MNIST.ipynb",
      "provenance": [],
      "collapsed_sections": [],
      "authorship_tag": "ABX9TyNPXfBGc74NzsFFoNjy58Wg",
      "include_colab_link": true
    },
    "kernelspec": {
      "name": "python3",
      "display_name": "Python 3"
    },
    "language_info": {
      "name": "python"
    },
    "accelerator": "GPU"
  },
  "cells": [
    {
      "cell_type": "markdown",
      "metadata": {
        "id": "view-in-github",
        "colab_type": "text"
      },
      "source": [
        "<a href=\"https://colab.research.google.com/github/bforoura/AML/blob/master/MNIST.ipynb\" target=\"_parent\"><img src=\"https://colab.research.google.com/assets/colab-badge.svg\" alt=\"Open In Colab\"/></a>"
      ]
    },
    {
      "cell_type": "markdown",
      "metadata": {
        "id": "XvE-sFPIYNSB"
      },
      "source": [
        "### MNIST Classification"
      ]
    },
    {
      "cell_type": "markdown",
      "metadata": {
        "id": "srRlKrIfX_fU"
      },
      "source": [
        "The MNIST database (Modified National Institute of Standards and Technology database) is a large database of handwritten digits that is commonly used for training various image processing systems. The database is also widely used for training and testing in the field of machine learning. It was created by \"re-mixing\" the samples from NIST's original datasets. The creators felt that since NIST's training dataset was taken from American Census Bureau employees, while the testing dataset was taken from American high school students, it was not well-suited for machine learning experiments. Furthermore, the black and white images from NIST were normalized to fit into a 28x28 pixel bounding box and anti-aliased, which introduced grayscale levels.\n",
        "\n",
        "The MNIST database contains 60,000 training images and 10,000 testing images.Half of the training set and half of the test set were taken from NIST's training dataset, while the other half of the training set and the other half of the test set were taken from NIST's testing dataset. The original creators of the database keep a list of some of the methods tested on it. In their original paper, they use a support-vector machine to get an error rate of 0.8% An extended dataset similar to MNIST called EMNIST has been published in 2017, which contains 240,000 training images, and 40,000 testing images of handwritten digits and characters."
      ]
    },
    {
      "cell_type": "code",
      "metadata": {
        "colab": {
          "base_uri": "https://localhost:8080/"
        },
        "id": "HIWJKveGXGO-",
        "outputId": "0022be24-b7bd-4bde-cc2c-42acbbc88720"
      },
      "source": [
        "# Download the full MNIST dataset\n",
        "\n",
        "from sklearn.datasets import fetch_openml\n",
        "mnist = fetch_openml('mnist_784', version=1)\n",
        "mnist.keys()\n",
        "\n"
      ],
      "execution_count": null,
      "outputs": [
        {
          "output_type": "execute_result",
          "data": {
            "text/plain": [
              "dict_keys(['data', 'target', 'frame', 'feature_names', 'target_names', 'DESCR', 'details', 'categories', 'url'])"
            ]
          },
          "metadata": {
            "tags": []
          },
          "execution_count": 12
        }
      ]
    },
    {
      "cell_type": "code",
      "metadata": {
        "colab": {
          "base_uri": "https://localhost:8080/"
        },
        "id": "7DUqytMLX31_",
        "outputId": "c4decb07-99eb-4771-8cec-7f1f57db3580"
      },
      "source": [
        "# 70,000 images where each image is a 28x28 2D array of 784 features\n",
        "\n",
        "mnist.data.shape\n"
      ],
      "execution_count": null,
      "outputs": [
        {
          "output_type": "execute_result",
          "data": {
            "text/plain": [
              "(70000, 784)"
            ]
          },
          "metadata": {
            "tags": []
          },
          "execution_count": 13
        }
      ]
    },
    {
      "cell_type": "code",
      "metadata": {
        "colab": {
          "base_uri": "https://localhost:8080/"
        },
        "id": "YRTwcPFeYt_r",
        "outputId": "5b898d8f-5154-4f6b-89dd-2ef79e419ad9"
      },
      "source": [
        "# The outputs are just digit lables\n",
        "\n",
        "mnist.target.shape"
      ],
      "execution_count": null,
      "outputs": [
        {
          "output_type": "execute_result",
          "data": {
            "text/plain": [
              "(70000,)"
            ]
          },
          "metadata": {
            "tags": []
          },
          "execution_count": 14
        }
      ]
    },
    {
      "cell_type": "code",
      "metadata": {
        "colab": {
          "base_uri": "https://localhost:8080/",
          "height": 261
        },
        "id": "y0nDQ7PD5paG",
        "outputId": "60dcfe75-0608-411a-e0c3-6ff530cce011"
      },
      "source": [
        "# Preview a few digits\n",
        "\n",
        "import matplotlib.pyplot as plt\n",
        "import numpy as np\n",
        "\n",
        "plt.figure(figsize=(20,4))\n",
        "for index, (image, label) in enumerate(zip(mnist.data[0:5], \n",
        "                                           mnist.target[0:5])):\n",
        "    plt.subplot(1, 5, index + 1)\n",
        "    plt.imshow(np.reshape(image, (28,28)), cmap=plt.cm.gray)\n",
        "    plt.title('Training: ' + label, fontsize = 20);"
      ],
      "execution_count": null,
      "outputs": [
        {
          "output_type": "display_data",
          "data": {
            "image/png": "[encoded data removed]",
            "text/plain": [
              "<Figure size 1440x288 with 5 Axes>"
            ]
          },
          "metadata": {
            "tags": [],
            "needs_background": "light"
          }
        }
      ]
    },
    {
      "cell_type": "code",
      "metadata": {
        "id": "dQrktfnj6QED"
      },
      "source": [
        "# Dataset is already shuffled and split into training (first 60,000) and testing (last 10,000) sets\n",
        "\n",
        "from sklearn.preprocessing import StandardScaler\n",
        "\n",
        "X, y = mnist[\"data\"], mnist[\"target\"]\n",
        "\n",
        "X_train, X_test, y_train, y_test = X[:60000], X[60000:], y[:60000], y[60000:]\n",
        "\n",
        "\n"
      ],
      "execution_count": null,
      "outputs": []
    },
    {
      "cell_type": "code",
      "metadata": {
        "colab": {
          "base_uri": "https://localhost:8080/"
        },
        "id": "2_FUnNcG62Jd",
        "outputId": "e3becdc5-d2ef-4303-f10d-adce08792ec5"
      },
      "source": [
        "# Examine the dataset sizes\n",
        "\n",
        "X_train.shape, X_test.shape"
      ],
      "execution_count": null,
      "outputs": [
        {
          "output_type": "execute_result",
          "data": {
            "text/plain": [
              "((60000, 784), (10000, 784))"
            ]
          },
          "metadata": {
            "tags": []
          },
          "execution_count": 17
        }
      ]
    },
    {
      "cell_type": "code",
      "metadata": {
        "colab": {
          "base_uri": "https://localhost:8080/",
          "height": 336
        },
        "id": "G4YIAoNk6_4G",
        "outputId": "6bf77186-51cf-42fa-8140-297a8f1299e5"
      },
      "source": [
        "# Find out class distributions in both testing and training datasets.\n",
        "\n",
        "plt.figure(figsize=(10,5))\n",
        "plt.subplot(1,2,1)\n",
        "plt.hist(y_train);\n",
        "plt.title('Frequency of different classes - Training data');\n",
        "\n",
        "plt.subplot(1,2,2)\n",
        "plt.hist(y_test);\n",
        "plt.title('Frequency of different classes - Testing data');"
      ],
      "execution_count": null,
      "outputs": [
        {
          "output_type": "display_data",
          "data": {
            "image/png": "[encoded data removed]",
            "text/plain": [
              "<Figure size 720x360 with 2 Axes>"
            ]
          },
          "metadata": {
            "tags": [],
            "needs_background": "light"
          }
        }
      ]
    },
    {
      "cell_type": "code",
      "metadata": {
        "id": "dvGKpvBa7nmK",
        "colab": {
          "base_uri": "https://localhost:8080/"
        },
        "outputId": "1ccb858c-adec-4a49-b504-9cdd73810128"
      },
      "source": [
        "# Parallelize the first classification job over 5 workers\n",
        "# Use Lasso regression \n",
        "# The SAGA solver supports the non-smooth penalty=l1 option (i.e. L1 Regularization).\n",
        "# SAGA is the solver of choice for sparse multinomial logistic regression \n",
        "# and it's also suitable very large datasets.\n",
        "\n",
        "from sklearn.linear_model import LogisticRegression\n",
        "lr_classifier = LogisticRegression(fit_intercept=True,\n",
        "                        multi_class='auto',\n",
        "                        penalty='l1', #lasso regression\n",
        "                        solver='saga',\n",
        "                        max_iter=1000,\n",
        "                        C=50,\n",
        "                        verbose=2, # output progress\n",
        "                        n_jobs=5, # parallelize over 5 processes\n",
        "                        tol=0.01\n",
        "                         )\n",
        "\n",
        "# Fit the model\n",
        "lr_classifier.fit(X_train, y_train)\n",
        "\n",
        "# Let's see what the classifier has learned\n",
        "lr_classifier.classes_"
      ],
      "execution_count": null,
      "outputs": [
        {
          "output_type": "stream",
          "text": [
            "[Parallel(n_jobs=5)]: Using backend ThreadingBackend with 5 concurrent workers.\n"
          ],
          "name": "stderr"
        },
        {
          "output_type": "stream",
          "text": [
            "convergence after 52 epochs took 186 seconds\n"
          ],
          "name": "stdout"
        },
        {
          "output_type": "stream",
          "text": [
            "[Parallel(n_jobs=5)]: Done   1 out of   1 | elapsed:  3.1min finished\n"
          ],
          "name": "stderr"
        },
        {
          "output_type": "execute_result",
          "data": {
            "text/plain": [
              "array(['0', '1', '2', '3', '4', '5', '6', '7', '8', '9'], dtype=object)"
            ]
          },
          "metadata": {
            "tags": []
          },
          "execution_count": 19
        }
      ]
    },
    {
      "cell_type": "code",
      "metadata": {
        "colab": {
          "base_uri": "https://localhost:8080/"
        },
        "id": "3F9FlLt4_RT-",
        "outputId": "6a734241-a540-4957-fb66-0c30925ec91c"
      },
      "source": [
        "# Accuracy scores on the training and testing sets\n",
        "\n",
        "score1 = round(lr_classifier.score(X_train, y_train), 2) # training score\n",
        "score2 = round(lr_classifier.score(X_test, y_test), 2)   # testing score\n",
        "\n",
        "print (\"Training and Testing scores: %.2f, %.2f\" %  (score1, score2))"
      ],
      "execution_count": null,
      "outputs": [
        {
          "output_type": "stream",
          "text": [
            "Training and Testing scores: 0.94, 0.93\n"
          ],
          "name": "stdout"
        }
      ]
    },
    {
      "cell_type": "code",
      "metadata": {
        "colab": {
          "base_uri": "https://localhost:8080/",
          "height": 343
        },
        "id": "JdMLAS0u9y_1",
        "outputId": "0eaafd4c-c098-40ba-a970-e5c1dce09d2d"
      },
      "source": [
        "# The confusion matrix\n",
        "\n",
        "from sklearn.metrics import confusion_matrix, classification_report\n",
        "import pandas as pd\n",
        "import numpy as np\n",
        "\n",
        "lr_predictions = lr_classifier.predict(X_test)\n",
        "\n",
        "labels = lr_classifier.classes_\n",
        "\n",
        "# compute TP, TN, FP, FN values\n",
        "lr_cm = confusion_matrix(y_true=y_test, \n",
        "                      y_pred = lr_predictions, \n",
        "                      labels = labels)\n",
        "\n",
        "# compute recall, precision, f1-scores\n",
        "lr_cr = classification_report(y_true=y_test, \n",
        "                      y_pred = lr_predictions, \n",
        "                      labels = labels)\n",
        "\n",
        "# print confusion matrix\n",
        "pd.DataFrame(lr_cm, index=labels, columns=labels)\n"
      ],
      "execution_count": null,
      "outputs": [
        {
          "output_type": "execute_result",
          "data": {
            "text/html": [
              "<div>\n",
              "<style scoped>\n",
              "    .dataframe tbody tr th:only-of-type {\n",
              "        vertical-align: middle;\n",
              "    }\n",
              "\n",
              "    .dataframe tbody tr th {\n",
              "        vertical-align: top;\n",
              "    }\n",
              "\n",
              "    .dataframe thead th {\n",
              "        text-align: right;\n",
              "    }\n",
              "</style>\n",
              "<table border=\"1\" class=\"dataframe\">\n",
              "  <thead>\n",
              "    <tr style=\"text-align: right;\">\n",
              "      <th></th>\n",
              "      <th>0</th>\n",
              "      <th>1</th>\n",
              "      <th>2</th>\n",
              "      <th>3</th>\n",
              "      <th>4</th>\n",
              "      <th>5</th>\n",
              "      <th>6</th>\n",
              "      <th>7</th>\n",
              "      <th>8</th>\n",
              "      <th>9</th>\n",
              "    </tr>\n",
              "  </thead>\n",
              "  <tbody>\n",
              "    <tr>\n",
              "      <th>0</th>\n",
              "      <td>962</td>\n",
              "      <td>0</td>\n",
              "      <td>0</td>\n",
              "      <td>3</td>\n",
              "      <td>1</td>\n",
              "      <td>2</td>\n",
              "      <td>5</td>\n",
              "      <td>4</td>\n",
              "      <td>3</td>\n",
              "      <td>0</td>\n",
              "    </tr>\n",
              "    <tr>\n",
              "      <th>1</th>\n",
              "      <td>0</td>\n",
              "      <td>1117</td>\n",
              "      <td>5</td>\n",
              "      <td>2</td>\n",
              "      <td>0</td>\n",
              "      <td>1</td>\n",
              "      <td>3</td>\n",
              "      <td>1</td>\n",
              "      <td>6</td>\n",
              "      <td>0</td>\n",
              "    </tr>\n",
              "    <tr>\n",
              "      <th>2</th>\n",
              "      <td>4</td>\n",
              "      <td>11</td>\n",
              "      <td>925</td>\n",
              "      <td>16</td>\n",
              "      <td>9</td>\n",
              "      <td>3</td>\n",
              "      <td>13</td>\n",
              "      <td>11</td>\n",
              "      <td>38</td>\n",
              "      <td>2</td>\n",
              "    </tr>\n",
              "    <tr>\n",
              "      <th>3</th>\n",
              "      <td>4</td>\n",
              "      <td>1</td>\n",
              "      <td>18</td>\n",
              "      <td>923</td>\n",
              "      <td>1</td>\n",
              "      <td>23</td>\n",
              "      <td>3</td>\n",
              "      <td>9</td>\n",
              "      <td>22</td>\n",
              "      <td>6</td>\n",
              "    </tr>\n",
              "    <tr>\n",
              "      <th>4</th>\n",
              "      <td>1</td>\n",
              "      <td>1</td>\n",
              "      <td>6</td>\n",
              "      <td>3</td>\n",
              "      <td>916</td>\n",
              "      <td>0</td>\n",
              "      <td>8</td>\n",
              "      <td>7</td>\n",
              "      <td>9</td>\n",
              "      <td>31</td>\n",
              "    </tr>\n",
              "    <tr>\n",
              "      <th>5</th>\n",
              "      <td>11</td>\n",
              "      <td>3</td>\n",
              "      <td>2</td>\n",
              "      <td>37</td>\n",
              "      <td>11</td>\n",
              "      <td>770</td>\n",
              "      <td>12</td>\n",
              "      <td>7</td>\n",
              "      <td>34</td>\n",
              "      <td>5</td>\n",
              "    </tr>\n",
              "    <tr>\n",
              "      <th>6</th>\n",
              "      <td>8</td>\n",
              "      <td>3</td>\n",
              "      <td>8</td>\n",
              "      <td>2</td>\n",
              "      <td>7</td>\n",
              "      <td>17</td>\n",
              "      <td>911</td>\n",
              "      <td>2</td>\n",
              "      <td>0</td>\n",
              "      <td>0</td>\n",
              "    </tr>\n",
              "    <tr>\n",
              "      <th>7</th>\n",
              "      <td>1</td>\n",
              "      <td>5</td>\n",
              "      <td>24</td>\n",
              "      <td>6</td>\n",
              "      <td>6</td>\n",
              "      <td>1</td>\n",
              "      <td>0</td>\n",
              "      <td>950</td>\n",
              "      <td>4</td>\n",
              "      <td>31</td>\n",
              "    </tr>\n",
              "    <tr>\n",
              "      <th>8</th>\n",
              "      <td>8</td>\n",
              "      <td>13</td>\n",
              "      <td>5</td>\n",
              "      <td>23</td>\n",
              "      <td>6</td>\n",
              "      <td>25</td>\n",
              "      <td>10</td>\n",
              "      <td>11</td>\n",
              "      <td>861</td>\n",
              "      <td>12</td>\n",
              "    </tr>\n",
              "    <tr>\n",
              "      <th>9</th>\n",
              "      <td>10</td>\n",
              "      <td>7</td>\n",
              "      <td>1</td>\n",
              "      <td>9</td>\n",
              "      <td>25</td>\n",
              "      <td>6</td>\n",
              "      <td>0</td>\n",
              "      <td>21</td>\n",
              "      <td>8</td>\n",
              "      <td>922</td>\n",
              "    </tr>\n",
              "  </tbody>\n",
              "</table>\n",
              "</div>"
            ],
            "text/plain": [
              "     0     1    2    3    4    5    6    7    8    9\n",
              "0  962     0    0    3    1    2    5    4    3    0\n",
              "1    0  1117    5    2    0    1    3    1    6    0\n",
              "2    4    11  925   16    9    3   13   11   38    2\n",
              "3    4     1   18  923    1   23    3    9   22    6\n",
              "4    1     1    6    3  916    0    8    7    9   31\n",
              "5   11     3    2   37   11  770   12    7   34    5\n",
              "6    8     3    8    2    7   17  911    2    0    0\n",
              "7    1     5   24    6    6    1    0  950    4   31\n",
              "8    8    13    5   23    6   25   10   11  861   12\n",
              "9   10     7    1    9   25    6    0   21    8  922"
            ]
          },
          "metadata": {
            "tags": []
          },
          "execution_count": 21
        }
      ]
    },
    {
      "cell_type": "code",
      "metadata": {
        "colab": {
          "base_uri": "https://localhost:8080/"
        },
        "id": "yOIduUl4CXLs",
        "outputId": "266980c3-d66f-4b99-c3ae-3c4bca1a03ce"
      },
      "source": [
        "# Print the classification report \n",
        "\n",
        "print(lr_cr)\n"
      ],
      "execution_count": null,
      "outputs": [
        {
          "output_type": "stream",
          "text": [
            "              precision    recall  f1-score   support\n",
            "\n",
            "           0       0.95      0.98      0.97       980\n",
            "           1       0.96      0.98      0.97      1135\n",
            "           2       0.93      0.90      0.91      1032\n",
            "           3       0.90      0.91      0.91      1010\n",
            "           4       0.93      0.93      0.93       982\n",
            "           5       0.91      0.86      0.89       892\n",
            "           6       0.94      0.95      0.95       958\n",
            "           7       0.93      0.92      0.93      1028\n",
            "           8       0.87      0.88      0.88       974\n",
            "           9       0.91      0.91      0.91      1009\n",
            "\n",
            "    accuracy                           0.93     10000\n",
            "   macro avg       0.92      0.92      0.92     10000\n",
            "weighted avg       0.93      0.93      0.93     10000\n",
            "\n"
          ],
          "name": "stdout"
        }
      ]
    },
    {
      "cell_type": "code",
      "metadata": {
        "colab": {
          "base_uri": "https://localhost:8080/",
          "height": 706
        },
        "id": "PRkU4ssc-7eG",
        "outputId": "db16ddd7-0926-4154-cb7e-1b5fc2f56f7d"
      },
      "source": [
        "# Visualize the confusion matrix as a heatmap\n",
        "\n",
        "import seaborn as sns\n",
        "\n",
        "plt.figure(figsize=(12,12))\n",
        "sns.heatmap(lr_cm, annot=True, \n",
        "            linewidths=.5, square = True, cmap = 'Oranges_r', fmt='0.4g');\n",
        "\n",
        "plt.ylabel('Actual label')\n",
        "plt.xlabel('Predicted label')"
      ],
      "execution_count": null,
      "outputs": [
        {
          "output_type": "execute_result",
          "data": {
            "text/plain": [
              "Text(0.5, 145.31999999999996, 'Predicted label')"
            ]
          },
          "metadata": {
            "tags": []
          },
          "execution_count": 23
        },
        {
          "output_type": "display_data",
          "data": {
            "image/png": "[encoded data removed]",
            "text/plain": [
              "<Figure size 864x864 with 2 Axes>"
            ]
          },
          "metadata": {
            "tags": [],
            "needs_background": "light"
          }
        }
      ]
    },
    {
      "cell_type": "code",
      "metadata": {
        "id": "pkoVyO1YF-BG",
        "colab": {
          "base_uri": "https://localhost:8080/"
        },
        "outputId": "18737721-e5a0-4509-99ec-edaf0ac0a80d"
      },
      "source": [
        "# Let's use SGD classifier this time \n",
        "# Parallelize the job over 5 workers\n",
        "\n",
        "from sklearn.linear_model import SGDClassifier\n",
        "\n",
        "sgd_classifier = SGDClassifier(max_iter=1000, \n",
        "                        tol=1e-3, \n",
        "                        random_state=42,\n",
        "                        n_jobs=5, # parallelize over 5 workers\n",
        "                        )\n",
        "\n",
        "# Fit the model\n",
        "sgd_classifier.fit(X_train, y_train)\n"
      ],
      "execution_count": null,
      "outputs": [
        {
          "output_type": "execute_result",
          "data": {
            "text/plain": [
              "SGDClassifier(alpha=0.0001, average=False, class_weight=None,\n",
              "              early_stopping=False, epsilon=0.1, eta0=0.0, fit_intercept=True,\n",
              "              l1_ratio=0.15, learning_rate='optimal', loss='hinge',\n",
              "              max_iter=1000, n_iter_no_change=5, n_jobs=5, penalty='l2',\n",
              "              power_t=0.5, random_state=42, shuffle=True, tol=0.001,\n",
              "              validation_fraction=0.1, verbose=0, warm_start=False)"
            ]
          },
          "metadata": {
            "tags": []
          },
          "execution_count": 24
        }
      ]
    },
    {
      "cell_type": "code",
      "metadata": {
        "colab": {
          "base_uri": "https://localhost:8080/"
        },
        "id": "4Eu8q_E0GyNd",
        "outputId": "b6a2867c-fa05-445c-900f-e2730786d21e"
      },
      "source": [
        "# Accuracy scores on the training and testing sets\n",
        "\n",
        "score3 = round(sgd_classifier.score(X_train, y_train), 2) # training score\n",
        "score4 = round(sgd_classifier.score(X_test, y_test), 2)   # testing score\n",
        "\n",
        "print (\"Training and Testing scores: %.2f, %.2f\" %  (score3, score4))"
      ],
      "execution_count": null,
      "outputs": [
        {
          "output_type": "stream",
          "text": [
            "Training and Testing scores: 0.88, 0.87\n"
          ],
          "name": "stdout"
        }
      ]
    },
    {
      "cell_type": "code",
      "metadata": {
        "colab": {
          "base_uri": "https://localhost:8080/",
          "height": 343
        },
        "id": "NE7MxDmgHEMa",
        "outputId": "762eead8-97a0-43c7-d1d6-beea1d26f270"
      },
      "source": [
        "# The confusion matrix\n",
        "\n",
        "sgd_predictions = sgd_classifier.predict(X_test)\n",
        "\n",
        "labels = sgd_classifier.classes_\n",
        "\n",
        "# compute TP, TN, FP, FN values\n",
        "sgd_cm = confusion_matrix(y_true=y_test, \n",
        "                      y_pred = sgd_predictions, \n",
        "                      labels = labels)\n",
        "\n",
        "# compute recall, precision, f1-scores\n",
        "sgd_cr = classification_report(y_true=y_test, \n",
        "                      y_pred = sgd_predictions, \n",
        "                      labels = labels)\n",
        "\n",
        "# print confusion matrix\n",
        "pd.DataFrame(sgd_cm, index=labels, columns=labels)\n"
      ],
      "execution_count": null,
      "outputs": [
        {
          "output_type": "execute_result",
          "data": {
            "text/html": [
              "<div>\n",
              "<style scoped>\n",
              "    .dataframe tbody tr th:only-of-type {\n",
              "        vertical-align: middle;\n",
              "    }\n",
              "\n",
              "    .dataframe tbody tr th {\n",
              "        vertical-align: top;\n",
              "    }\n",
              "\n",
              "    .dataframe thead th {\n",
              "        text-align: right;\n",
              "    }\n",
              "</style>\n",
              "<table border=\"1\" class=\"dataframe\">\n",
              "  <thead>\n",
              "    <tr style=\"text-align: right;\">\n",
              "      <th></th>\n",
              "      <th>0</th>\n",
              "      <th>1</th>\n",
              "      <th>2</th>\n",
              "      <th>3</th>\n",
              "      <th>4</th>\n",
              "      <th>5</th>\n",
              "      <th>6</th>\n",
              "      <th>7</th>\n",
              "      <th>8</th>\n",
              "      <th>9</th>\n",
              "    </tr>\n",
              "  </thead>\n",
              "  <tbody>\n",
              "    <tr>\n",
              "      <th>0</th>\n",
              "      <td>902</td>\n",
              "      <td>0</td>\n",
              "      <td>8</td>\n",
              "      <td>11</td>\n",
              "      <td>1</td>\n",
              "      <td>13</td>\n",
              "      <td>2</td>\n",
              "      <td>4</td>\n",
              "      <td>39</td>\n",
              "      <td>0</td>\n",
              "    </tr>\n",
              "    <tr>\n",
              "      <th>1</th>\n",
              "      <td>0</td>\n",
              "      <td>1095</td>\n",
              "      <td>2</td>\n",
              "      <td>3</td>\n",
              "      <td>0</td>\n",
              "      <td>2</td>\n",
              "      <td>4</td>\n",
              "      <td>1</td>\n",
              "      <td>28</td>\n",
              "      <td>0</td>\n",
              "    </tr>\n",
              "    <tr>\n",
              "      <th>2</th>\n",
              "      <td>1</td>\n",
              "      <td>10</td>\n",
              "      <td>803</td>\n",
              "      <td>69</td>\n",
              "      <td>6</td>\n",
              "      <td>4</td>\n",
              "      <td>4</td>\n",
              "      <td>10</td>\n",
              "      <td>122</td>\n",
              "      <td>3</td>\n",
              "    </tr>\n",
              "    <tr>\n",
              "      <th>3</th>\n",
              "      <td>0</td>\n",
              "      <td>1</td>\n",
              "      <td>6</td>\n",
              "      <td>931</td>\n",
              "      <td>1</td>\n",
              "      <td>21</td>\n",
              "      <td>3</td>\n",
              "      <td>7</td>\n",
              "      <td>35</td>\n",
              "      <td>5</td>\n",
              "    </tr>\n",
              "    <tr>\n",
              "      <th>4</th>\n",
              "      <td>2</td>\n",
              "      <td>2</td>\n",
              "      <td>9</td>\n",
              "      <td>15</td>\n",
              "      <td>778</td>\n",
              "      <td>4</td>\n",
              "      <td>2</td>\n",
              "      <td>9</td>\n",
              "      <td>62</td>\n",
              "      <td>99</td>\n",
              "    </tr>\n",
              "    <tr>\n",
              "      <th>5</th>\n",
              "      <td>6</td>\n",
              "      <td>2</td>\n",
              "      <td>1</td>\n",
              "      <td>71</td>\n",
              "      <td>3</td>\n",
              "      <td>709</td>\n",
              "      <td>12</td>\n",
              "      <td>12</td>\n",
              "      <td>67</td>\n",
              "      <td>9</td>\n",
              "    </tr>\n",
              "    <tr>\n",
              "      <th>6</th>\n",
              "      <td>5</td>\n",
              "      <td>3</td>\n",
              "      <td>12</td>\n",
              "      <td>13</td>\n",
              "      <td>5</td>\n",
              "      <td>21</td>\n",
              "      <td>854</td>\n",
              "      <td>0</td>\n",
              "      <td>45</td>\n",
              "      <td>0</td>\n",
              "    </tr>\n",
              "    <tr>\n",
              "      <th>7</th>\n",
              "      <td>0</td>\n",
              "      <td>3</td>\n",
              "      <td>18</td>\n",
              "      <td>20</td>\n",
              "      <td>3</td>\n",
              "      <td>4</td>\n",
              "      <td>1</td>\n",
              "      <td>919</td>\n",
              "      <td>18</td>\n",
              "      <td>42</td>\n",
              "    </tr>\n",
              "    <tr>\n",
              "      <th>8</th>\n",
              "      <td>3</td>\n",
              "      <td>5</td>\n",
              "      <td>2</td>\n",
              "      <td>30</td>\n",
              "      <td>4</td>\n",
              "      <td>43</td>\n",
              "      <td>5</td>\n",
              "      <td>5</td>\n",
              "      <td>872</td>\n",
              "      <td>5</td>\n",
              "    </tr>\n",
              "    <tr>\n",
              "      <th>9</th>\n",
              "      <td>3</td>\n",
              "      <td>5</td>\n",
              "      <td>2</td>\n",
              "      <td>33</td>\n",
              "      <td>7</td>\n",
              "      <td>5</td>\n",
              "      <td>0</td>\n",
              "      <td>20</td>\n",
              "      <td>57</td>\n",
              "      <td>877</td>\n",
              "    </tr>\n",
              "  </tbody>\n",
              "</table>\n",
              "</div>"
            ],
            "text/plain": [
              "     0     1    2    3    4    5    6    7    8    9\n",
              "0  902     0    8   11    1   13    2    4   39    0\n",
              "1    0  1095    2    3    0    2    4    1   28    0\n",
              "2    1    10  803   69    6    4    4   10  122    3\n",
              "3    0     1    6  931    1   21    3    7   35    5\n",
              "4    2     2    9   15  778    4    2    9   62   99\n",
              "5    6     2    1   71    3  709   12   12   67    9\n",
              "6    5     3   12   13    5   21  854    0   45    0\n",
              "7    0     3   18   20    3    4    1  919   18   42\n",
              "8    3     5    2   30    4   43    5    5  872    5\n",
              "9    3     5    2   33    7    5    0   20   57  877"
            ]
          },
          "metadata": {
            "tags": []
          },
          "execution_count": 26
        }
      ]
    },
    {
      "cell_type": "code",
      "metadata": {
        "colab": {
          "base_uri": "https://localhost:8080/"
        },
        "id": "Os-Iatl3HB4U",
        "outputId": "1ceedfcf-81c6-45e5-e39a-d0b42d076859"
      },
      "source": [
        "# Print the classification report \n",
        "\n",
        "print(sgd_cr)\n"
      ],
      "execution_count": null,
      "outputs": [
        {
          "output_type": "stream",
          "text": [
            "              precision    recall  f1-score   support\n",
            "\n",
            "           0       0.98      0.92      0.95       980\n",
            "           1       0.97      0.96      0.97      1135\n",
            "           2       0.93      0.78      0.85      1032\n",
            "           3       0.78      0.92      0.84      1010\n",
            "           4       0.96      0.79      0.87       982\n",
            "           5       0.86      0.79      0.83       892\n",
            "           6       0.96      0.89      0.93       958\n",
            "           7       0.93      0.89      0.91      1028\n",
            "           8       0.65      0.90      0.75       974\n",
            "           9       0.84      0.87      0.86      1009\n",
            "\n",
            "    accuracy                           0.87     10000\n",
            "   macro avg       0.89      0.87      0.87     10000\n",
            "weighted avg       0.89      0.87      0.88     10000\n",
            "\n"
          ],
          "name": "stdout"
        }
      ]
    },
    {
      "cell_type": "code",
      "metadata": {
        "id": "LVJFmVfktMjF",
        "colab": {
          "base_uri": "https://localhost:8080/"
        },
        "outputId": "12cddea9-aa10-4d9a-ba92-5e7981fffe05"
      },
      "source": [
        "# Yet another classification model\n",
        "\n",
        "from sklearn.ensemble import RandomForestClassifier \n",
        "\n",
        "rf_classifier = RandomForestClassifier(n_estimators=100,\n",
        "                                       n_jobs=5)\n",
        "rf_classifier.fit(X_train, y_train) \n"
      ],
      "execution_count": null,
      "outputs": [
        {
          "output_type": "execute_result",
          "data": {
            "text/plain": [
              "RandomForestClassifier(bootstrap=True, ccp_alpha=0.0, class_weight=None,\n",
              "                       criterion='gini', max_depth=None, max_features='auto',\n",
              "                       max_leaf_nodes=None, max_samples=None,\n",
              "                       min_impurity_decrease=0.0, min_impurity_split=None,\n",
              "                       min_samples_leaf=1, min_samples_split=2,\n",
              "                       min_weight_fraction_leaf=0.0, n_estimators=100, n_jobs=5,\n",
              "                       oob_score=False, random_state=None, verbose=0,\n",
              "                       warm_start=False)"
            ]
          },
          "metadata": {
            "tags": []
          },
          "execution_count": 28
        }
      ]
    },
    {
      "cell_type": "code",
      "metadata": {
        "id": "TlT4h2Khv0Fl",
        "colab": {
          "base_uri": "https://localhost:8080/"
        },
        "outputId": "445cbbab-afed-426d-fc3a-3b8a6bde5e34"
      },
      "source": [
        "# Accuracy scores on the training and testing sets\n",
        "\n",
        "score5 = round(rf_classifier.score(X_train, y_train), 2) # training score\n",
        "score6 = round(rf_classifier.score(X_test, y_test), 2)   # testing score\n",
        "\n",
        "print (\"Training and Testing scores: %.2f, %.2f\" %  (score5, score6))"
      ],
      "execution_count": null,
      "outputs": [
        {
          "output_type": "stream",
          "text": [
            "Training and Testing scores: 1.00, 0.97\n"
          ],
          "name": "stdout"
        }
      ]
    },
    {
      "cell_type": "code",
      "metadata": {
        "colab": {
          "base_uri": "https://localhost:8080/",
          "height": 281
        },
        "id": "Bqe6lh6qIqEj",
        "outputId": "9ddd616e-10ec-47b8-9141-794f59f2f59b"
      },
      "source": [
        "# Summarize the findings for all models\n",
        "\n",
        "import matplotlib\n",
        "import matplotlib.pyplot as plt\n",
        "import numpy as np\n",
        "\n",
        "\n",
        "labels = ['Softmax Regression', 'SGD Classifier', 'Random Forest']\n",
        "training_scores = [score1, score3, score5]\n",
        "testing_scores =  [score2, score4, score6]\n",
        "\n",
        "x = np.arange(len(labels))  # the label locations\n",
        "width = 0.35  # the width of the bars\n",
        "\n",
        "fig, ax = plt.subplots()\n",
        "rects1 = ax.bar(x - width/2, training_scores, width, label='Training', color='navy')\n",
        "rects2 = ax.bar(x + width/2, testing_scores, width, label='Testing', color='orange')\n",
        "\n",
        "# Add some text for labels, title and custom x-axis tick labels, etc.\n",
        "ax.set_ylabel('Model Accuracy')\n",
        "ax.set_xticks(x)\n",
        "ax.set_ylim(0,1)\n",
        "ax.set_xticklabels(labels)\n",
        "ax.legend(bbox_to_anchor = (1.3, 1.0), loc='upper right')\n",
        "\n",
        "plt.title('Model Comparisons')\n",
        "plt.show()\n"
      ],
      "execution_count": null,
      "outputs": [
        {
          "output_type": "display_data",
          "data": {
            "image/png": "[encoded data removed]",
            "text/plain": [
              "<Figure size 432x288 with 1 Axes>"
            ]
          },
          "metadata": {
            "tags": [],
            "needs_background": "light"
          }
        }
      ]
    },
    {
      "cell_type": "code",
      "metadata": {
        "colab": {
          "base_uri": "https://localhost:8080/",
          "height": 279
        },
        "id": "5TCSrTGpAcPg",
        "outputId": "405a5d0b-ddd6-4160-9330-5314b082d121"
      },
      "source": [
        "# Let's train another random forest classifier and create the ROC curve\n",
        "\n",
        "from sklearn.metrics import plot_roc_curve\n",
        "from sklearn.model_selection import train_test_split\n",
        "\n",
        "# Set up a binary classifier:  'digit 5' and 'all other digits'\n",
        "X, y = mnist.data, mnist.target\n",
        "y = y =='5'\n",
        "\n",
        "# split the training and testing cases\n",
        "X_train, X_test, y_train, y_test = train_test_split(X, y, \n",
        "                                                    train_size=0.70, \n",
        "                                                    random_state=42)\n",
        "\n",
        "rfc = RandomForestClassifier(n_estimators=10, random_state=42)\n",
        "rfc.fit(X_train, y_train)\n",
        "\n",
        "ax = plt.gca()\n",
        "rfc_disp = plot_roc_curve(rfc, X_test, y_test, ax=ax)\n",
        "\n",
        "plt.show()\n",
        "\n"
      ],
      "execution_count": null,
      "outputs": [
        {
          "output_type": "display_data",
          "data": {
            "image/png": "[encoded data removed]",
            "text/plain": [
              "<Figure size 432x288 with 1 Axes>"
            ]
          },
          "metadata": {
            "tags": [],
            "needs_background": "light"
          }
        }
      ]
    },
    {
      "cell_type": "markdown",
      "metadata": {
        "id": "F4vfApciYnuF"
      },
      "source": [
        "### Summary\n",
        "\n",
        "Side-by-side comparison of the 3 models demonstrates that the Random Forest (RF) model provides the highest classification accuracy on both the training and testing cases. However, such a high classification accuracy on the training set is indicative of high bias, so cross-validation using k folds would be a more appropriate measure of judging the model's true power of prediction. Training times varied a great deal with SGD classifier taking the longest time while the RF model was the fastest to achieve convergence. \n",
        "\n",
        "An attempt was made to include SVM classification with linear or polynomial kernels, but training did not terminate due to the very large size of the training set. Parallelization helped to reduce training times for some of the algorithms but not enough for the SVM model to obtain any useful results.\n",
        "\n",
        "The multi-class problem was converted to binary classification to further examine the RF model's precision. The plotted ROC curve for the model shows a very large AUC which is another indicator of the model's highest classification accuracy among all three models.\n",
        "\n"
      ]
    }
  ]
}